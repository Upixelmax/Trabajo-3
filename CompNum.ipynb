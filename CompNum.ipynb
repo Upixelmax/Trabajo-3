{
 "cells": [
  {
   "cell_type": "code",
   "execution_count": 2,
   "id": "6e6becad",
   "metadata": {},
   "outputs": [
    {
     "name": "stdout",
     "output_type": "stream",
     "text": [
      "    valores de fi:  [229.3  290.05 351.2  403.25 437.9 ]\n",
      "divisores en L(i):  [24. -6.  4. -6. 24.]\n",
      "\n",
      "Polinomio de Lagrange, expresiones\n",
      "9.55416666666667*(x - 5)*(x - 4)*(x - 3)*(x - 2) - 48.3416666666667*(x - 5)*(x - 4)*(x - 3)*(x - 1) + 87.8*(x - 5)*(x - 4)*(x - 2)*(x - 1) - 67.2083333333333*(x - 5)*(x - 3)*(x - 2)*(x - 1) + 18.2458333333333*(x - 4)*(x - 3)*(x - 2)*(x - 1)\n",
      "\n",
      "Polinomio de Lagrange: \n",
      "0.0499999999999972*x**4 - 2.08333333333326*x**3 + 11.4499999999998*x**2 + 40.2333333333336*x + 179.65\n"
     ]
    },
    {
     "data": {
      "image/png": "[encoded data removed]",
      "text/plain": [
       "<Figure size 432x288 with 1 Axes>"
      ]
     },
     "metadata": {
      "needs_background": "light"
     },
     "output_type": "display_data"
    }
   ],
   "source": [
    "# Interpolacion de Lagrange\n",
    "# divisoresL solo para mostrar valores\n",
    "import numpy as np\n",
    "import sympy as sym\n",
    "import matplotlib.pyplot as plt\n",
    "\n",
    "# INGRESO , Datos de prueba\n",
    "xi= np.array([1, 2, 3, 4, 5])\n",
    "fi= np.array([229.30, 290.05, 351.20, 403.25, 437.90])\n",
    "\n",
    "# PROCEDIMIENTO\n",
    "# Polinomio de Lagrange\n",
    "n = len(xi)\n",
    "x = sym.Symbol('x')\n",
    "polinomio = 0\n",
    "divisorL = np.zeros(n, dtype = float)\n",
    "for i in range(0,n,1):\n",
    "    \n",
    "    # Termino de Lagrange\n",
    "    numerador = 1\n",
    "    denominador = 1\n",
    "    for j  in range(0,n,1):\n",
    "        if (j!=i):\n",
    "            numerador = numerador*(x-xi[j])\n",
    "            denominador = denominador*(xi[i]-xi[j])\n",
    "    terminoLi = numerador/denominador\n",
    "\n",
    "    polinomio = polinomio + terminoLi*fi[i]\n",
    "    divisorL[i] = denominador\n",
    "\n",
    "# simplifica el polinomio\n",
    "polisimple = polinomio.expand()\n",
    "\n",
    "# para evaluación numérica\n",
    "px = sym.lambdify(x,polisimple)\n",
    "\n",
    "# Puntos para la gráfica\n",
    "muestras = 101\n",
    "a = np.min(xi)\n",
    "b = np.max(xi)\n",
    "pxi = np.linspace(a,b,muestras)\n",
    "pfi = px(pxi)\n",
    "\n",
    "# SALIDA\n",
    "print('    valores de fi: ',fi)\n",
    "print('divisores en L(i): ',divisorL)\n",
    "print()\n",
    "print('Polinomio de Lagrange, expresiones')\n",
    "print(polinomio)\n",
    "print()\n",
    "print('Polinomio de Lagrange: ')\n",
    "print(polisimple)\n",
    "\n",
    "# Gráfica\n",
    "plt.plot(xi,fi,'o', label = 'Puntos')\n",
    "plt.plot(pxi,pfi, label = 'Polinomio')\n",
    "plt.legend()\n",
    "plt.xlabel('xi')\n",
    "plt.ylabel('fi')\n",
    "plt.title('Interpolación Lagrange')\n",
    "#plt.ylim(0,3)\n",
    "plt.show()"
   ]
  },
  {
   "cell_type": "code",
   "execution_count": 1,
   "id": "310255ec",
   "metadata": {},
   "outputs": [
    {
     "name": "stdout",
     "output_type": "stream",
     "text": [
      "[-1.2865592026210877, 5.861709007562537, 26.67485019505855]\n",
      "x = -1.286559 (Min)\n",
      "x = 5.861709 (Max)\n",
      "x = 26.674850 (Min)\n"
     ]
    }
   ],
   "source": [
    "from sympy import *\n",
    "from sympy.plotting import plot\n",
    "from sympy.abc import x\n",
    "def maxminf(f):\n",
    "    \"\"\" Calcula los máximos y mínimos de una función f(x) \"\"\"\n",
    "    df = diff(f, x) # 1era. derivada\n",
    "    d2f = diff(f, x, 2) # 2da. derivada\n",
    "    pcs = solve(Eq(df,0)) # puntos críticos\n",
    "    pc=[]\n",
    "    for i in range(len(pcs)):\n",
    "        aux=complex(pcs[i])\n",
    "        pc.append(aux.real)\n",
    "    print(pc)\n",
    "    for p in pc:\n",
    "        if d2f.subs(x,p)>0: \n",
    "            tipo=\"Min\"\n",
    "        elif d2f.subs(x,p)<0: \n",
    "            tipo=\"Max\"\n",
    "        else: \n",
    "            tipo=\"Indefinido\"\n",
    "        print(\"x = %f (%s)\"%(p,tipo))\n",
    "maxminf(0.0499999999999972*x**4 - 2.08333333333326*x**3 + 11.4499999999998*x**2 + 40.2333333333336*x + 179.65)"
   ]
  },
  {
   "cell_type": "code",
   "execution_count": 6,
   "id": "3329e805",
   "metadata": {},
   "outputs": [
    {
     "name": "stdout",
     "output_type": "stream",
     "text": [
      "Valor máximo de la bolsa:  448.3369198571262\n"
     ]
    }
   ],
   "source": [
    "def f(x):return (0.0499999999999972*x**4 - 2.08333333333326*x**3 + 11.4499999999998*x**2 + 40.2333333333336*x + 179.65)\n",
    "print(\"Valor máximo de la bolsa: \",f(5.861709))"
   ]
  },
  {
   "cell_type": "code",
   "execution_count": null,
   "id": "55ba7a64",
   "metadata": {},
   "outputs": [],
   "source": []
  }
 ],
 "metadata": {
  "kernelspec": {
   "display_name": "Python 3 (ipykernel)",
   "language": "python",
   "name": "python3"
  },
  "language_info": {
   "codemirror_mode": {
    "name": "ipython",
    "version": 3
   },
   "file_extension": ".py",
   "mimetype": "text/x-python",
   "name": "python",
   "nbconvert_exporter": "python",
   "pygments_lexer": "ipython3",
   "version": "3.8.10"
  }
 },
 "nbformat": 4,
 "nbformat_minor": 5
}
